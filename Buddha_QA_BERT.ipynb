{
 "cells": [
  {
   "cell_type": "code",
   "execution_count": 1,
   "metadata": {},
   "outputs": [],
   "source": [
    "# 前処理コード\n",
    "\n",
    "from sentence_transformers import SentenceTransformer\n",
    "sbert = SentenceTransformer('./sbert_stair')\n",
    "\n",
    "f = open('Buddha_only2.txt', 'r')\n",
    "Butta_words = f.read()\n",
    "f.close()\n",
    "\n",
    "import re\n",
    "Butta_words = re.sub('（[〇一二三四五六七八九]+）','',Butta_words)\n",
    "Butta_words = re.sub('（[〇一二三四五六七八九]+・[〇一二三四五六七八九]+）','',Butta_words)\n",
    "Butta_words = Butta_words.split(\"。\")\n",
    "\n",
    "from sentence_transformers import SentenceTransformer\n",
    "sbert = SentenceTransformer('./sbert_stair')\n",
    "\n",
    "Butta_dict = {}\n",
    "for s in Butta_words:\n",
    "    Butta_dict[s] = sbert.encode(s)\n",
    "\n",
    "import pickle\n",
    "with open('Butta_dict.binaryfile', 'wb') as f:\n",
    "    pickle.dump(Butta_dict , f)\n",
    "\n",
    "# 取り出すとき\n",
    "# with open('Butta_dict.binaryfile', 'rb') as f:\n",
    "#     Butta_dict = pickle.load(f)"
   ]
  },
  {
   "cell_type": "code",
   "execution_count": null,
   "metadata": {},
   "outputs": [],
   "source": [
    "# !pip install sentence_transformers\n",
    "# !pip install sklearn\n",
    "# !pip install tqdm\n",
    "# !pip install time"
   ]
  },
  {
   "cell_type": "code",
   "execution_count": 2,
   "metadata": {},
   "outputs": [
    {
     "name": "stdout",
     "output_type": "stream",
     "text": [
      "sbert OK!\n"
     ]
    }
   ],
   "source": [
    "# 初めに一度読み込んでください\n",
    "from sentence_transformers import SentenceTransformer\n",
    "from sklearn.metrics.pairwise import cosine_similarity\n",
    "# from tqdm import tqdm\n",
    "# import time\n",
    "\n",
    "sbert = SentenceTransformer('./sbert_stair')\n",
    "print(\"sbert OK!\")\n",
    "\n",
    "def similarity(id1, id2):\n",
    "  return cosine_similarity([vectors[id2idx[id1]]], [vectors[id2idx[id2]]])[0][0]\n",
    "\n",
    "with open('Butta_dict.binaryfile', 'rb') as f:\n",
    "    Butta_dict = pickle.load(f)"
   ]
  },
  {
   "cell_type": "code",
   "execution_count": 3,
   "metadata": {},
   "outputs": [
    {
     "name": "stdout",
     "output_type": "stream",
     "text": [
      "【ブッダに聞いてみたいことは何ですか？】\n"
     ]
    },
    {
     "name": "stdin",
     "output_type": "stream",
     "text": [
      " 明日の天気は?\n"
     ]
    },
    {
     "name": "stdout",
     "output_type": "stream",
     "text": [
      "\n",
      "【お答え】\n",
      "あくせくすることなくいかなる場合も平穏である\n"
     ]
    }
   ],
   "source": [
    "#本セルを実行後．質問を入力すると回答が表示されます\n",
    "print(\"【ブッダに聞いてみたいことは何ですか？】\")\n",
    "input_Q = input() \n",
    "\n",
    "Butta_cos = {}\n",
    "for key in Butta_dict:\n",
    "    Butta_cos[key] = cosine_similarity([Butta_dict[key]],[sbert.encode(input_Q)])\n",
    "    \n",
    "max_k = max(Butta_cos, key=Butta_cos.get) \n",
    "print(\"\")\n",
    "print(\"【お答え】\")\n",
    "print(max_k)\n",
    "\n",
    "del Butta_cos"
   ]
  },
  {
   "cell_type": "code",
   "execution_count": null,
   "metadata": {},
   "outputs": [],
   "source": [
    "def similarity(id1, id2):\n",
    "    return cosine_similarity([vectors[id2idx[id1]]], [vectors[id2idx[id2]]])[0][0]"
   ]
  },
  {
   "cell_type": "code",
   "execution_count": 7,
   "metadata": {},
   "outputs": [],
   "source": [
    "import pickle\n",
    "\n",
    "with open('Butta_dict.binaryfile', 'rb') as f:\n",
    "    Butta_dict = pickle.load(f)"
   ]
  },
  {
   "cell_type": "code",
   "execution_count": 8,
   "metadata": {},
   "outputs": [
    {
     "ename": "NameError",
     "evalue": "name 'cosine_similarity' is not defined",
     "output_type": "error",
     "traceback": [
      "\u001b[0;31m---------------------------------------------------------------------------\u001b[0m",
      "\u001b[0;31mNameError\u001b[0m                                 Traceback (most recent call last)",
      "\u001b[0;32m<ipython-input-8-95d25de5946a>\u001b[0m in \u001b[0;36m<module>\u001b[0;34m\u001b[0m\n\u001b[1;32m      1\u001b[0m \u001b[0mButta_cos\u001b[0m \u001b[0;34m=\u001b[0m \u001b[0;34m{\u001b[0m\u001b[0;34m}\u001b[0m\u001b[0;34m\u001b[0m\u001b[0;34m\u001b[0m\u001b[0m\n\u001b[1;32m      2\u001b[0m \u001b[0;32mfor\u001b[0m \u001b[0mkey\u001b[0m \u001b[0;32min\u001b[0m \u001b[0mButta_dict\u001b[0m\u001b[0;34m:\u001b[0m\u001b[0;34m\u001b[0m\u001b[0;34m\u001b[0m\u001b[0m\n\u001b[0;32m----> 3\u001b[0;31m     \u001b[0mButta_cos\u001b[0m\u001b[0;34m[\u001b[0m\u001b[0mkey\u001b[0m\u001b[0;34m]\u001b[0m \u001b[0;34m=\u001b[0m \u001b[0mcosine_similarity\u001b[0m\u001b[0;34m(\u001b[0m\u001b[0;34m[\u001b[0m\u001b[0mButta_dict\u001b[0m\u001b[0;34m[\u001b[0m\u001b[0mkey\u001b[0m\u001b[0;34m]\u001b[0m\u001b[0;34m]\u001b[0m\u001b[0;34m,\u001b[0m\u001b[0;34m[\u001b[0m\u001b[0msbert\u001b[0m\u001b[0;34m.\u001b[0m\u001b[0mencode\u001b[0m\u001b[0;34m(\u001b[0m\u001b[0minput_Q\u001b[0m\u001b[0;34m)\u001b[0m\u001b[0;34m]\u001b[0m\u001b[0;34m)\u001b[0m\u001b[0;34m\u001b[0m\u001b[0;34m\u001b[0m\u001b[0m\n\u001b[0m",
      "\u001b[0;31mNameError\u001b[0m: name 'cosine_similarity' is not defined"
     ]
    }
   ],
   "source": [
    "Butta_cos = {}\n",
    "for key in Butta_dict:\n",
    "    Butta_cos[key] = cosine_similarity([Butta_dict[key]],[sbert.encode(input_Q)])"
   ]
  },
  {
   "cell_type": "code",
   "execution_count": 10,
   "metadata": {},
   "outputs": [],
   "source": [
    "sbert = SentenceTransformer('./sbert_stair')"
   ]
  },
  {
   "cell_type": "code",
   "execution_count": null,
   "metadata": {},
   "outputs": [],
   "source": []
  }
 ],
 "metadata": {
  "environment": {
   "name": "tf2-2-3-gpu.2-3.m59",
   "type": "gcloud",
   "uri": "gcr.io/deeplearning-platform-release/tf2-2-3-gpu.2-3:m59"
  },
  "kernelspec": {
   "display_name": "Python 3",
   "language": "python",
   "name": "python3"
  },
  "language_info": {
   "codemirror_mode": {
    "name": "ipython",
    "version": 3
   },
   "file_extension": ".py",
   "mimetype": "text/x-python",
   "name": "python",
   "nbconvert_exporter": "python",
   "pygments_lexer": "ipython3",
   "version": "3.7.8"
  }
 },
 "nbformat": 4,
 "nbformat_minor": 4
}
