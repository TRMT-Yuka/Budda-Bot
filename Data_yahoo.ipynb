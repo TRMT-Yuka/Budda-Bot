{
 "cells": [
  {
   "cell_type": "code",
   "execution_count": 3,
   "metadata": {},
   "outputs": [],
   "source": [
    "import csv\n",
    "with open(\"data_yahoo/ans_0.tsv\", mode='r', newline='', encoding='utf-8') as f:\n",
    "    tsv_reader = csv.reader(f, delimiter='\\t')\n",
    "    ans_0 = [row for row in tsv_reader]\n",
    "    \n",
    "with open(\"data_yahoo/ans_1.tsv\", mode='r', newline='', encoding='utf-8') as f:\n",
    "    tsv_reader = csv.reader(f, delimiter='\\t')\n",
    "    ans_1 = [row for row in tsv_reader]\n",
    "    \n",
    "with open(\"data_yahoo/ans_2.tsv\", mode='r', newline='', encoding='utf-8') as f:\n",
    "    tsv_reader = csv.reader(f, delimiter='\\t')\n",
    "    ans_2 = [row for row in tsv_reader]\n",
    "    \n",
    "with open(\"data_yahoo/ans_3.tsv\", mode='r', newline='', encoding='utf-8') as f:\n",
    "    tsv_reader = csv.reader(f, delimiter='\\t')\n",
    "    ans_3 = [row for row in tsv_reader]\n",
    "\n",
    "with open(\"data_yahoo/ans_4.tsv\", mode='r', newline='', encoding='utf-8') as f:\n",
    "    tsv_reader = csv.reader(f, delimiter='\\t')\n",
    "    ans_4 = [row for row in tsv_reader]"
   ]
  },
  {
   "cell_type": "code",
   "execution_count": 5,
   "metadata": {},
   "outputs": [],
   "source": [
    "ans = ans_0 + ans_1 + ans_2 + ans_3 + ans_4"
   ]
  },
  {
   "cell_type": "code",
   "execution_count": 6,
   "metadata": {},
   "outputs": [],
   "source": [
    "import csv\n",
    "with open(\"data_yahoo/que_0.tsv\", mode='r', newline='', encoding='utf-8') as f:\n",
    "    tsv_reader = csv.reader(f, delimiter='\\t')\n",
    "    que_0 = [row for row in tsv_reader]\n",
    "    \n",
    "with open(\"data_yahoo/que_1.tsv\", mode='r', newline='', encoding='utf-8') as f:\n",
    "    tsv_reader = csv.reader(f, delimiter='\\t')\n",
    "    que_1 = [row for row in tsv_reader]\n",
    "    \n",
    "with open(\"data_yahoo/que_2.tsv\", mode='r', newline='', encoding='utf-8') as f:\n",
    "    tsv_reader = csv.reader(f, delimiter='\\t')\n",
    "    que_2 = [row for row in tsv_reader]\n",
    "    \n",
    "with open(\"data_yahoo/que_3.tsv\", mode='r', newline='', encoding='utf-8') as f:\n",
    "    tsv_reader = csv.reader(f, delimiter='\\t')\n",
    "    que_3 = [row for row in tsv_reader]\n",
    "\n",
    "with open(\"data_yahoo/que_4.tsv\", mode='r', newline='', encoding='utf-8') as f:\n",
    "    tsv_reader = csv.reader(f, delimiter='\\t')\n",
    "    que_4 = [row for row in tsv_reader]"
   ]
  },
  {
   "cell_type": "code",
   "execution_count": 7,
   "metadata": {},
   "outputs": [],
   "source": [
    "que = que_0 + que_1 + que_2 + que_3 + que_4"
   ]
  },
  {
   "cell_type": "code",
   "execution_count": 37,
   "metadata": {},
   "outputs": [],
   "source": [
    "que_d = {}\n",
    "for row in que:\n",
    "    if len(row)>=3:\n",
    "        que_d[row[0]]=[row[2],row[3].replace(\"\\u3000\",\"\")]"
   ]
  },
  {
   "cell_type": "code",
   "execution_count": 38,
   "metadata": {},
   "outputs": [],
   "source": [
    "new_data = []#2471480\n",
    "for row in ans:\n",
    "    if row[3]==\"1\" and row[0] in que_d:\n",
    "        new_data.append(que_d[row[0]]+[row[2].replace(\"\\u3000\",\"\")])\n",
    "    else:\n",
    "        pass"
   ]
  },
  {
   "cell_type": "code",
   "execution_count": 41,
   "metadata": {},
   "outputs": [],
   "source": [
    "life_data = []\n",
    "for row in new_data:\n",
    "    if \"生き方と恋愛、人間関係の悩み\" in row[0]:\n",
    "        life_data.append(row[1:])"
   ]
  },
  {
   "cell_type": "code",
   "execution_count": 44,
   "metadata": {},
   "outputs": [
    {
     "data": {
      "text/plain": [
       "397081"
      ]
     },
     "execution_count": 44,
     "metadata": {},
     "output_type": "execute_result"
    }
   ],
   "source": [
    "len(life_data)"
   ]
  },
  {
   "cell_type": "code",
   "execution_count": 45,
   "metadata": {},
   "outputs": [],
   "source": [
    "import random\n",
    "data_770 = random.sample(life_data, 770)"
   ]
  },
  {
   "cell_type": "code",
   "execution_count": 47,
   "metadata": {},
   "outputs": [],
   "source": [
    "import pickle\n",
    "with open(\"Yahoo_QA.binaryfile\", 'wb') as f:\n",
    "    pickle.dump(data_770,f)"
   ]
  },
  {
   "cell_type": "code",
   "execution_count": null,
   "metadata": {},
   "outputs": [],
   "source": []
  }
 ],
 "metadata": {
  "kernelspec": {
   "display_name": "Python 3",
   "language": "python",
   "name": "python3"
  },
  "language_info": {
   "codemirror_mode": {
    "name": "ipython",
    "version": 3
   },
   "file_extension": ".py",
   "mimetype": "text/x-python",
   "name": "python",
   "nbconvert_exporter": "python",
   "pygments_lexer": "ipython3",
   "version": "3.9.0"
  }
 },
 "nbformat": 4,
 "nbformat_minor": 4
}
