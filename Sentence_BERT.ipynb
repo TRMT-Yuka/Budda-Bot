{
 "cells": [
  {
   "cell_type": "code",
   "execution_count": 9,
   "metadata": {
    "id": "xwzMsp5uwo-k"
   },
   "outputs": [],
   "source": [
    "# !pip install -U sentence-transformers"
   ]
  },
  {
   "cell_type": "code",
   "execution_count": 10,
   "metadata": {
    "id": "eVVdnmehw2az"
   },
   "outputs": [],
   "source": [
    "# !apt-get install mecab mecab-ipadic-utf8 python-mecab libmecab-dev\n",
    "# !pip install mecab-python3 "
   ]
  },
  {
   "cell_type": "code",
   "execution_count": 11,
   "metadata": {
    "id": "d7kFmqndw4ta"
   },
   "outputs": [],
   "source": [
    "# !pip install ginza"
   ]
  },
  {
   "cell_type": "code",
   "execution_count": 4,
   "metadata": {
    "id": "SonwXjJkw7YO"
   },
   "outputs": [],
   "source": [
    "import transformers\n",
    "transformers.BertTokenizer = transformers.BertJapaneseTokenizer"
   ]
  },
  {
   "cell_type": "code",
   "execution_count": null,
   "metadata": {
    "id": "4CrsMEM0xLtu"
   },
   "outputs": [],
   "source": [
    "# !git clone https://github.com/STAIR-Lab-CIT/STAIR-captions\n",
    "# !tar zxvf STAIR-captions/stair_captions_v1.2.tar.gz\n",
    "# !ls -lh *.json"
   ]
  },
  {
   "cell_type": "markdown",
   "metadata": {
    "id": "yMA4eV2ir5Co"
   },
   "source": [
    "# データ作成"
   ]
  },
  {
   "cell_type": "code",
   "execution_count": null,
   "metadata": {
    "id": "VTmqSGEgxOul"
   },
   "outputs": [],
   "source": [
    "# import json\n",
    "# with open(\"stair_captions_v1.2_val.json\", \"r\") as f:\n",
    "#   json_data_val = json.load(f)\n",
    "# with open(\"stair_captions_v1.2_train.json\", \"r\") as f:\n",
    "#   json_data_train = json.load(f)"
   ]
  },
  {
   "cell_type": "code",
   "execution_count": null,
   "metadata": {
    "id": "8HtRvaL9xR1T"
   },
   "outputs": [],
   "source": [
    "# dataset = {}\n",
    "# ids = []\n",
    "# captions = []\n",
    "\n",
    "# def build_dataset(dataset, json_data):\n",
    "#   num_samples = len(json_data['annotations'])\n",
    "#   for i in range(num_samples):\n",
    "#     anno = json_data['annotations'][i]\n",
    "#     image_id = anno[\"image_id\"]\n",
    "#     image_captions = dataset.get(image_id, [])\n",
    "#     image_captions.append((anno[\"id\"], anno[\"caption\"]))\n",
    "#     ids.append(anno[\"id\"])\n",
    "#     captions.append(anno[\"caption\"])\n",
    "#     dataset[image_id] = image_captions\n",
    "\n",
    "# build_dataset(dataset, json_data_val)\n",
    "# build_dataset(dataset, json_data_train)"
   ]
  },
  {
   "cell_type": "code",
   "execution_count": null,
   "metadata": {
    "id": "_fUFA2-pxVxm"
   },
   "outputs": [],
   "source": [
    "# id2idx = {id:idx for idx, id in enumerate(ids)}"
   ]
  },
  {
   "cell_type": "code",
   "execution_count": null,
   "metadata": {
    "id": "ogWhAK9fxXWP"
   },
   "outputs": [],
   "source": [
    "# import numpy as np\n",
    "# import spacy\n",
    "# import pkg_resources, imp\n",
    "# imp.reload(pkg_resources)\n",
    "\n",
    "# nlp = spacy.load(\"ja_ginza\")\n",
    "\n",
    "# vectors = []\n",
    "# cnt = 0\n",
    "# for caption in captions:\n",
    "#   cnt = cnt + 1\n",
    "#   print(cnt,\"/\",len(captions),\"  \",caption)\n",
    "#   doc = nlp(caption, disable=['ner'])\n",
    "#   vectors.append(doc.vector)\n",
    "\n",
    "# del nlp"
   ]
  },
  {
   "cell_type": "code",
   "execution_count": null,
   "metadata": {
    "id": "prph8mDsxZpE"
   },
   "outputs": [],
   "source": [
    "# from sklearn.metrics.pairwise import cosine_similarity\n",
    "# def similarity(id1, id2):\n",
    "#   return cosine_similarity([vectors[id2idx[id1]]], [vectors[id2idx[id2]]])[0][0]"
   ]
  },
  {
   "cell_type": "code",
   "execution_count": null,
   "metadata": {
    "id": "t7A5_IegxZef"
   },
   "outputs": [],
   "source": [
    "# import random\n",
    "\n",
    "# def make_triplets(dataset, threshold=0.85, seed=7, max_tries=25):\n",
    "#   triplets = []\n",
    "#   random.seed(seed)\n",
    "#   neg_candidate_indices = list(range(len(ids)))\n",
    "#   random.shuffle(neg_candidate_indices)\n",
    "#   def log(i, str):\n",
    "#     if i % 5000 == 0:\n",
    "#       print(str)\n",
    "\n",
    "#   for i, image_id in enumerate(list(dataset.keys())): \n",
    "#     log(i, \"### %d ###\" % (image_id))\n",
    "\n",
    "#     # pickup positive pair.\n",
    "#     score = 0.0\n",
    "#     tries = 0\n",
    "#     while score < threshold : \n",
    "#       [(id, caption), (id_pos, caption_pos)] = random.sample(dataset[image_id],2)\n",
    "#       score = similarity(id, id_pos)\n",
    "#       tries+=1\n",
    "#       if tries > max_tries:\n",
    "#         break\n",
    "#     if score < threshold:\n",
    "#       continue\n",
    "\n",
    "#     # pickup negative one.\n",
    "#     id_neg = id\n",
    "#     current_caption_ids = [id_cap[0] for id_cap in dataset[image_id]]\n",
    "#     while id_neg in current_caption_ids:\n",
    "#       idx_neg = neg_candidate_indices.pop()\n",
    "#       id_neg = ids[idx_neg]\n",
    "#     caption_neg = captions[id2idx[id_neg]]\n",
    "\n",
    "#     log(i, \"  pos:  score: %4.2f [%s]:[%s]\" % (score, caption, caption_pos))\n",
    "#     log(i, \"  neg:  score: %4.2f [%s]:[%s]\" % (similarity(id, id_neg), caption, caption_neg))\n",
    "#     triplets.append({\n",
    "#       \"image_id\": image_id,\n",
    "#       \"id\": id,\n",
    "#       \"id_pos\": id_pos,\n",
    "#       \"id_neg\": id_neg,\n",
    "#       \"caption\": caption,\n",
    "#       \"caption_pos\": caption_pos,\n",
    "#       \"caption_neg\": caption_neg  \n",
    "#     })\n",
    "#   return triplets"
   ]
  },
  {
   "cell_type": "code",
   "execution_count": null,
   "metadata": {
    "id": "yyvLamsHNZgq"
   },
   "outputs": [],
   "source": [
    "# triplets = make_triplets(dataset)\n",
    "\n",
    "# ### 580856 ###\n",
    "#   pos:  score: 0.85 [夜の街にオープンしているワイナリーの入り口]:[踏切の近くにワイナリーが開店している]\n",
    "#   neg:  score: 0.47 [夜の街にオープンしているワイナリーの入り口]:[野球選手のフォームの確認をしている]\n",
    "# ### 235486 ###\n",
    "#   pos:  score: 0.90 [2人の女性と1人の男性が食卓を囲んでいる]:[三人の男女がピザと飲み物を囲んで笑っている]\n",
    "#   neg:  score: 0.60 [2人の女性と1人の男性が食卓を囲んでいる]:[赤い飛行機が飛行機雲をひいて飛んでいる]\n",
    "# ### 133631 ###\n",
    "#   pos:  score: 0.90 [1頭のゾウが柵の内側に立っている]:[土の上に立っているゾウには牙がある]\n",
    "#   neg:  score: 0.84 [1頭のゾウが柵の内側に立っている]:[洗面所に花瓶に入った花が飾られている]\n",
    "# ### 467843 ###\n",
    "# ### 423588 ###\n",
    "#   pos:  score: 0.85 [雪山の小さな小屋の屋根に、スノーボードを履いた人物が乗り、それを3人の人物が見ている]:[スキー場で数人の人がスノボーをしている]\n",
    "#   neg:  score: 0.71 [雪山の小さな小屋の屋根に、スノーボードを履いた人物が乗り、それを3人の人物が見ている]:[ぞうがトラックで運ばれている]\n",
    "# ### 115765 ###\n",
    "#   pos:  score: 0.89 [ギターバックを持っている男性が、傘を持った2人の女性に紙を渡して話しかけている]:[傘をさした女性と、楽器をもった人]\n",
    "#   neg:  score: 0.83 [ギターバックを持っている男性が、傘を持った2人の女性に紙を渡して話しかけている]:[赤いユニフォームを着た人はバッドを振っている]\n",
    "..."
   ]
  },
  {
   "cell_type": "markdown",
   "metadata": {
    "id": "UjkOtV9msdrk"
   },
   "source": [
    "## ＃ここはNTICRでもつかえそう"
   ]
  },
  {
   "cell_type": "code",
   "execution_count": null,
   "metadata": {
    "id": "7bdZSJgYB54t"
   },
   "outputs": [],
   "source": [
    "# len(triplets)\n",
    "\n",
    "# # 120582\n",
    "\n",
    "# from sklearn.model_selection import train_test_split\n",
    "# train, dev_test = train_test_split(triplets, train_size=0.8, random_state=4)\n",
    "# dev, test = train_test_split(dev_test, train_size=0.5, random_state=7)"
   ]
  },
  {
   "cell_type": "code",
   "execution_count": null,
   "metadata": {
    "colab": {
     "base_uri": "https://localhost:8080/"
    },
    "id": "MkuTYuraB6j4",
    "outputId": "5e18d003-3726-4597-fa28-f7db89d037f0"
   },
   "outputs": [
    {
     "name": "stdout",
     "output_type": "stream",
     "text": [
      "/content/drive\n",
      "/content/drive/My Drive\n",
      "/content/drive/My Drive/Colab Notebooks\n",
      "/content/drive/My Drive/Colab Notebooks/sentenceBERT\n"
     ]
    }
   ],
   "source": [
    "# %cd drive\n",
    "# %cd \"My Drive\"\n",
    "# %cd \"Colab Notebooks\"\n",
    "# %cd \"sentenceBERT\""
   ]
  },
  {
   "cell_type": "code",
   "execution_count": null,
   "metadata": {
    "id": "HTWHmTE6B8al"
   },
   "outputs": [],
   "source": [
    "# def to_tsv(fname, triplet):\n",
    "#   with open(fname, \"w\") as f:\n",
    "#     lines = [\"%s\\t%s\\t%s\" % (example[\"caption\"], example[\"caption_pos\"], example[\"caption_neg\"]) for example in triplet]\n",
    "#     f.write(\"\\n\".join(lines)+\"\\n\")\n",
    "\n",
    "# to_tsv(\"triplet_train.tsv\", train)\n",
    "# to_tsv(\"triplet_dev.tsv\", dev)\n",
    "# to_tsv(\"triplet_test.tsv\", test)"
   ]
  },
  {
   "cell_type": "markdown",
   "metadata": {
    "id": "4u3QfooSsO8S"
   },
   "source": [
    "# 学習開始"
   ]
  },
  {
   "cell_type": "code",
   "execution_count": 25,
   "metadata": {
    "id": "pxGO30-htaD4"
   },
   "outputs": [],
   "source": [
    "import pandas as pd\n",
    "train = pd.read_table(\"triplet_train.tsv\",header=None)"
   ]
  },
  {
   "cell_type": "code",
   "execution_count": 13,
   "metadata": {
    "id": "Ml43k5tTOvTa"
   },
   "outputs": [],
   "source": [
    "BATCH_SIZE = 16\n",
    "NUM_EPOCHS = 1\n",
    "EVAL_STEPS = 1000\n",
    "WARMUP_STEPS = int(len(train) // BATCH_SIZE * 0.1) \n",
    "OUTPUT_PATH = \"sbert_stair\""
   ]
  },
  {
   "cell_type": "code",
   "execution_count": 14,
   "metadata": {
    "colab": {
     "base_uri": "https://localhost:8080/"
    },
    "id": "OpnR9nvWPdLR",
    "outputId": "2e09036b-7efd-4c2a-8313-d14324b5d072"
   },
   "outputs": [],
   "source": [
    "# !sudo apt install mecab\n",
    "# !sudo apt install libmecab-dev\n",
    "# !sudo apt install mecab-ipadic-utf8\n",
    "# !pip install seqeval\n",
    "# !pip install transformers\n",
    "# !pip install Mecab\n",
    "# !pip install unidic-lite\n",
    "# !pip install fugashi\n",
    "# !pip install ipadic\n",
    "# !pip install conllu"
   ]
  },
  {
   "cell_type": "code",
   "execution_count": 15,
   "metadata": {
    "colab": {
     "base_uri": "https://localhost:8080/",
     "height": 166,
     "referenced_widgets": [
      "bad218c8e6d348b3885ca579f48038d9",
      "311098df259a4dbb957a69fbeae1f8ba",
      "1da28decf133447f9e50538c2cfe9d9d",
      "3f7de905251848ed87b0547489d63e8c",
      "0944d83bc46042c78765771fc2597eb6",
      "fe3a4eb298c3422cb9de870c935565d2",
      "705276cb267c43c3b1ef9e000017db93",
      "e6cbb95610944331b53e2d010fd5b95e",
      "3eff1a8ea81543989296c6d244deb4e2",
      "4c1a9a63703344a59e1e6154cde1f1f4",
      "d77f520a31704044a542b7b4d07469b5",
      "bb0bf2cd468e45ca89a6cca74a9572e6",
      "c2ed51b50d29433096594ee1844c8f9e",
      "98e0eb6897f3414f85ace9700f574b83",
      "62dba33d042b47b6a327d82de0c075bf",
      "092f54fe5ca4450eb6b3605732642e27",
      "ce74cad0ae7d40d8aa54529360ae639c",
      "03b159ea344d44d7af1dd7add757a25d",
      "6e7b60ab1c7f44f29f92907155ea6889",
      "e767eea3e75a4da0bcedc7f5de3ca794",
      "7d4a138ce30944ec99068e0b3bed04c6",
      "25130cf0c970483487434be0b08f5eed",
      "9217611a7b604511b7d0db3a9afa1f48",
      "4076647c57d34b93a81e311faf574035"
     ]
    },
    "id": "ArDZ91QMPFSk",
    "outputId": "b72ed50b-bc9a-409e-81fc-a2c318e68d52"
   },
   "outputs": [
    {
     "data": {
      "application/vnd.jupyter.widget-view+json": {
       "model_id": "6a26172fb9224bdaacddc495b05ac404",
       "version_major": 2,
       "version_minor": 0
      },
      "text/plain": [
       "HBox(children=(HTML(value='Downloading'), FloatProgress(value=0.0, max=479.0), HTML(value='')))"
      ]
     },
     "metadata": {},
     "output_type": "display_data"
    },
    {
     "name": "stdout",
     "output_type": "stream",
     "text": [
      "\n"
     ]
    },
    {
     "data": {
      "application/vnd.jupyter.widget-view+json": {
       "model_id": "2fcd2625a4b64c2ab7eba44bb60a4296",
       "version_major": 2,
       "version_minor": 0
      },
      "text/plain": [
       "HBox(children=(HTML(value='Downloading'), FloatProgress(value=0.0, max=445021143.0), HTML(value='')))"
      ]
     },
     "metadata": {},
     "output_type": "display_data"
    },
    {
     "name": "stdout",
     "output_type": "stream",
     "text": [
      "\n"
     ]
    },
    {
     "data": {
      "application/vnd.jupyter.widget-view+json": {
       "model_id": "91c7a436cfa247a28f59bdd439cc6351",
       "version_major": 2,
       "version_minor": 0
      },
      "text/plain": [
       "HBox(children=(HTML(value='Downloading'), FloatProgress(value=0.0, max=257706.0), HTML(value='')))"
      ]
     },
     "metadata": {},
     "output_type": "display_data"
    },
    {
     "name": "stdout",
     "output_type": "stream",
     "text": [
      "\n"
     ]
    }
   ],
   "source": [
    "import transformers\n",
    "transformers.BertTokenizer = transformers.BertJapaneseTokenizer\n",
    "\n",
    "from sentence_transformers import SentenceTransformer\n",
    "from sentence_transformers import models\n",
    "from sentence_transformers.losses import TripletDistanceMetric, TripletLoss\n",
    "from sentence_transformers.evaluation import TripletEvaluator\n",
    "from sentence_transformers.readers import TripletReader\n",
    "from sentence_transformers.datasets import SentencesDataset\n",
    "from torch.utils.data import DataLoader\n",
    "\n",
    "transformer = models.BERT('cl-tohoku/bert-base-japanese-whole-word-masking')\n",
    "\n",
    "pooling = models.Pooling(\n",
    "    transformer.get_word_embedding_dimension(), \n",
    "    pooling_mode_mean_tokens=True, \n",
    "    pooling_mode_cls_token=False, \n",
    "    pooling_mode_max_tokens=False\n",
    ")\n",
    "\n",
    "model = SentenceTransformer(modules=[transformer, pooling])"
   ]
  },
  {
   "cell_type": "code",
   "execution_count": 16,
   "metadata": {
    "id": "f8wRnm42PG4G"
   },
   "outputs": [],
   "source": [
    "triplet_reader = TripletReader(\".\")\n",
    "train_data = SentencesDataset(triplet_reader.get_examples('triplet_train.tsv'), model=model)\n",
    "train_dataloader = DataLoader(train_data, shuffle=True, batch_size=BATCH_SIZE)"
   ]
  },
  {
   "cell_type": "code",
   "execution_count": 17,
   "metadata": {
    "id": "REJZYQgmPLkm"
   },
   "outputs": [],
   "source": [
    "train_loss = TripletLoss(model=model, distance_metric=TripletDistanceMetric.EUCLIDEAN, triplet_margin=1)"
   ]
  },
  {
   "cell_type": "code",
   "execution_count": 18,
   "metadata": {
    "id": "sbN_g0njWvC6"
   },
   "outputs": [],
   "source": [
    "import pandas as pd\n",
    "data = pd.read_table(\"triplet_dev.tsv\",header=None)"
   ]
  },
  {
   "cell_type": "code",
   "execution_count": 19,
   "metadata": {
    "colab": {
     "base_uri": "https://localhost:8080/"
    },
    "id": "k-CbMTCmW_qO",
    "outputId": "f7e2a261-9fb4-4a04-b769-81efca92cbd2"
   },
   "outputs": [
    {
     "data": {
      "text/plain": [
       "0                     白い電子レンジの横からパンが出ている\n",
       "1                小さなトラックでけん引した荷台に馬が乗っている\n",
       "2            スーツを着た男性とドレスを着た女性がケーキのそばにいる\n",
       "3                   雪の上をスキー板を持った男性が歩いている\n",
       "4                 下着姿の女性がベッドにうつぶせに寝転んでいる\n",
       "                      ...               \n",
       "12277           黄色いサーフボードを持った人が海の中に入っている\n",
       "12278               夜、白い建物の上部にある時計が光っている\n",
       "12279    枯れ木の前に黒いハットを被った金髪の女性が馬に乗って歩いている\n",
       "12280                 部屋の窓際に大きな織り機が置いてある\n",
       "12281           酒樽の上にメニューとおつまみとワインが置いている\n",
       "Name: 0, Length: 12282, dtype: object"
      ]
     },
     "execution_count": 19,
     "metadata": {},
     "output_type": "execute_result"
    }
   ],
   "source": [
    "data[0]"
   ]
  },
  {
   "cell_type": "code",
   "execution_count": 20,
   "metadata": {
    "id": "AE5Fi5dRPM8j"
   },
   "outputs": [],
   "source": [
    "# dev_data = SentencesDataset(triplet_reader.get_examples('triplet_dev.tsv'), model=model)\n",
    "# dev_dataloader = DataLoader(dev_data, shuffle=False, batch_size=BATCH_SIZE)\n",
    "# evaluator = TripletEvaluator(dev_dataloader)\n",
    "\n",
    "evaluator = TripletEvaluator(data[0],data[1],data[2])"
   ]
  },
  {
   "cell_type": "code",
   "execution_count": 21,
   "metadata": {
    "colab": {
     "base_uri": "https://localhost:8080/",
     "height": 81,
     "referenced_widgets": [
      "903741ec19a5419f9534f20a80ef65a8",
      "eed6e643ea374f9189965430206052e3",
      "cb195813504f4382bd7ad6ebdd9a21d2",
      "980c7a4ad3a8474f9017939ea9690807",
      "970812a38fcf4e37aec02fc6704e8367",
      "c0c4ed7d9f6b43fbaae7bcd7de6640d2",
      "dad0f5228e15400a9cbf4089e98fd5ba",
      "edef431ae37346359e7eca35b38f6738",
      "da24afcf27a142c286c470929e435db4",
      "02735f8dec2f4d5b9c3e02e06ee19f49",
      "841906429a3045b5ad651193bccdd34e",
      "2bf8e00e5a8c4cec8d0ba7be18ad0662",
      "383af31561c945e4abfa9e562fb7bdd0",
      "263bddf1a0b84006b23fc2ef4c3e1671",
      "96d8ac7ac2b4483b82390f92249747fa",
      "2f96398e32d34909b82fbe9b6e9cc81a"
     ]
    },
    "id": "jYj0qO4MUw5r",
    "outputId": "dfc745cb-797c-4a94-b84f-64d7e043f836"
   },
   "outputs": [
    {
     "data": {
      "application/vnd.jupyter.widget-view+json": {
       "model_id": "6e968a7da5a24170a1b7f925eda7818e",
       "version_major": 2,
       "version_minor": 0
      },
      "text/plain": [
       "HBox(children=(HTML(value='Epoch'), FloatProgress(value=0.0, max=1.0), HTML(value='')))"
      ]
     },
     "metadata": {},
     "output_type": "display_data"
    },
    {
     "data": {
      "application/vnd.jupyter.widget-view+json": {
       "model_id": "d5e177e9494f40f6b066663b1f210708",
       "version_major": 2,
       "version_minor": 0
      },
      "text/plain": [
       "HBox(children=(HTML(value='Iteration'), FloatProgress(value=0.0, max=6141.0), HTML(value='')))"
      ]
     },
     "metadata": {},
     "output_type": "display_data"
    },
    {
     "name": "stdout",
     "output_type": "stream",
     "text": [
      "\n",
      "\n"
     ]
    }
   ],
   "source": [
    "model.fit(train_objectives=[(train_dataloader, train_loss)],\n",
    "         evaluator=evaluator,\n",
    "         epochs=NUM_EPOCHS,\n",
    "         evaluation_steps=EVAL_STEPS,\n",
    "         warmup_steps=WARMUP_STEPS,\n",
    "         output_path=OUTPUT_PATH\n",
    "         )"
   ]
  },
  {
   "cell_type": "code",
   "execution_count": 22,
   "metadata": {
    "id": "NSr_PrbPPSTt"
   },
   "outputs": [
    {
     "name": "stdout",
     "output_type": "stream",
     "text": [
      "./sbert_stair\n",
      "./sbert_stair/modules.json\n",
      "./sbert_stair/0_BERT\n",
      "./sbert_stair/0_BERT/config.json\n",
      "./sbert_stair/0_BERT/tokenizer_config.json\n",
      "./sbert_stair/0_BERT/pytorch_model.bin\n",
      "./sbert_stair/0_BERT/special_tokens_map.json\n",
      "./sbert_stair/0_BERT/sentence_bert_config.json\n",
      "./sbert_stair/0_BERT/vocab.txt\n",
      "./sbert_stair/1_Pooling\n",
      "./sbert_stair/1_Pooling/config.json\n",
      "./sbert_stair/triplet_evaluation_results.csv\n",
      "./sbert_stair/config.json\n"
     ]
    }
   ],
   "source": [
    "!find ./sbert_stair -print"
   ]
  },
  {
   "cell_type": "code",
   "execution_count": 23,
   "metadata": {
    "id": "YbcNEboRPTnB"
   },
   "outputs": [
    {
     "name": "stdout",
     "output_type": "stream",
     "text": [
      "epoch,steps,accuracy_cosinus,accuracy_manhatten,accuracy_euclidean\n",
      "0,1000,0.9839602670574825,0.9840416870216577,0.9840416870216577\n",
      "0,2000,0.9888454649079954,0.9891711447646963,0.9894968246213972\n",
      "0,3000,0.9903110242631493,0.9910438039407262,0.9910438039407262\n",
      "0,4000,0.9907995440482006,0.9911252239049014,0.9911252239049014\n",
      "0,5000,0.9908809640123758,0.9914509037616024,0.9916137436899528\n",
      "0,6000,0.991695163654128,0.9920208435108289,0.9921022634750041\n",
      "0,-1,0.991695163654128,0.9921022634750041,0.9921022634750041\n"
     ]
    }
   ],
   "source": [
    "!cat sbert_stair/triplet_evaluation_results.csv"
   ]
  },
  {
   "cell_type": "code",
   "execution_count": null,
   "metadata": {
    "id": "vwZf4wTXPXdU"
   },
   "outputs": [],
   "source": [
    "import pandas as pd\n",
    "eval_df = pd.read_csv(\"sbert_stair/triplet_evaluation_results.csv\")\n",
    "eval_df[\"steps\"][6] = len(train) // BATCH_SIZE\n",
    "eval_df.plot(x=\"steps\", y=[\"accuracy_cosinus\", \"accuracy_manhatten\",    \"accuracy_euclidean\"])"
   ]
  },
  {
   "cell_type": "code",
   "execution_count": 26,
   "metadata": {},
   "outputs": [
    {
     "name": "stderr",
     "output_type": "stream",
     "text": [
      "/opt/conda/lib/python3.7/site-packages/ipykernel_launcher.py:3: SettingWithCopyWarning: \n",
      "A value is trying to be set on a copy of a slice from a DataFrame\n",
      "\n",
      "See the caveats in the documentation: https://pandas.pydata.org/pandas-docs/stable/user_guide/indexing.html#returning-a-view-versus-a-copy\n",
      "  This is separate from the ipykernel package so we can avoid doing imports until\n"
     ]
    },
    {
     "data": {
      "text/plain": [
       "<AxesSubplot:xlabel='steps'>"
      ]
     },
     "execution_count": 26,
     "metadata": {},
     "output_type": "execute_result"
    },
    {
     "data": {
      "image/png": "[encoded data removed]",
      "text/plain": [
       "<Figure size 432x288 with 1 Axes>"
      ]
     },
     "metadata": {
      "needs_background": "light"
     },
     "output_type": "display_data"
    }
   ],
   "source": [
    "import pandas as pd\n",
    "eval_df = pd.read_csv(\"sbert_stair/triplet_evaluation_results.csv\")\n",
    "eval_df[\"steps\"][6] = len(train) // BATCH_SIZE\n",
    "eval_df.plot(x=\"steps\", y=[\"accuracy_cosinus\", \"accuracy_manhatten\",    \"accuracy_euclidean\"])"
   ]
  },
  {
   "cell_type": "markdown",
   "metadata": {},
   "source": [
    "## ここからは検証用オリジナルコード"
   ]
  },
  {
   "cell_type": "code",
   "execution_count": 127,
   "metadata": {},
   "outputs": [],
   "source": [
    "sbert = SentenceTransformer('./sbert_stair')"
   ]
  },
  {
   "cell_type": "code",
   "execution_count": 138,
   "metadata": {},
   "outputs": [],
   "source": [
    "text_1= \"私はバナナが好かないです\"\n",
    "text_2= \"私はバナナは嫌いです\"\n",
    "text_3= \"吾輩は猫である名前はまだない\""
   ]
  },
  {
   "cell_type": "code",
   "execution_count": 145,
   "metadata": {},
   "outputs": [],
   "source": [
    "# text_1= \"私はバナナが好きです\"\n",
    "# text_2= \"私はバナナは嫌いです\"\n",
    "# text_3= \"芭蕉の実が好物だ\""
   ]
  },
  {
   "cell_type": "code",
   "execution_count": 146,
   "metadata": {},
   "outputs": [],
   "source": [
    "kekka_1 = sbert.encode(text_1)\n",
    "kekka_2 = sbert.encode(text_2)\n",
    "kekka_3 = sbert.encode(text_3)"
   ]
  },
  {
   "cell_type": "code",
   "execution_count": 147,
   "metadata": {},
   "outputs": [],
   "source": [
    "from sklearn.metrics.pairwise import cosine_similarity\n",
    "cos_12 = cosine_similarity([kekka_1],[kekka_2])\n",
    "cos_23 = cosine_similarity([kekka_2],[kekka_3])\n",
    "cos_13 = cosine_similarity([kekka_1],[kekka_3])"
   ]
  },
  {
   "cell_type": "code",
   "execution_count": 148,
   "metadata": {},
   "outputs": [
    {
     "name": "stdout",
     "output_type": "stream",
     "text": [
      "[[0.9830932]]\n",
      "[[0.7314427]]\n",
      "[[0.741143]]\n"
     ]
    }
   ],
   "source": [
    "print(cos_12)\n",
    "print(cos_23)\n",
    "print(cos_13)"
   ]
  },
  {
   "cell_type": "code",
   "execution_count": null,
   "metadata": {},
   "outputs": [],
   "source": []
  }
 ],
 "metadata": {
  "colab": {
   "name": "Untitled0.ipynb",
   "provenance": []
  },
  "environment": {
   "name": "tf2-2-3-gpu.2-3.m59",
   "type": "gcloud",
   "uri": "gcr.io/deeplearning-platform-release/tf2-2-3-gpu.2-3:m59"
  },
  "kernelspec": {
   "display_name": "Python 3",
   "language": "python",
   "name": "python3"
  },
  "language_info": {
   "codemirror_mode": {
    "name": "ipython",
    "version": 3
   },
   "file_extension": ".py",
   "mimetype": "text/x-python",
   "name": "python",
   "nbconvert_exporter": "python",
   "pygments_lexer": "ipython3",
   "version": "3.7.8"
  },
  "widgets": {
   "application/vnd.jupyter.widget-state+json": {
    "02735f8dec2f4d5b9c3e02e06ee19f49": {
     "model_module": "@jupyter-widgets/base",
     "model_name": "LayoutModel",
     "state": {
      "_model_module": "@jupyter-widgets/base",
      "_model_module_version": "1.2.0",
      "_model_name": "LayoutModel",
      "_view_count": null,
      "_view_module": "@jupyter-widgets/base",
      "_view_module_version": "1.2.0",
      "_view_name": "LayoutView",
      "align_content": null,
      "align_items": null,
      "align_self": null,
      "border": null,
      "bottom": null,
      "display": null,
      "flex": null,
      "flex_flow": null,
      "grid_area": null,
      "grid_auto_columns": null,
      "grid_auto_flow": null,
      "grid_auto_rows": null,
      "grid_column": null,
      "grid_gap": null,
      "grid_row": null,
      "grid_template_areas": null,
      "grid_template_columns": null,
      "grid_template_rows": null,
      "height": null,
      "justify_content": null,
      "justify_items": null,
      "left": null,
      "margin": null,
      "max_height": null,
      "max_width": null,
      "min_height": null,
      "min_width": null,
      "object_fit": null,
      "object_position": null,
      "order": null,
      "overflow": null,
      "overflow_x": null,
      "overflow_y": null,
      "padding": null,
      "right": null,
      "top": null,
      "visibility": null,
      "width": null
     }
    },
    "03b159ea344d44d7af1dd7add757a25d": {
     "model_module": "@jupyter-widgets/base",
     "model_name": "LayoutModel",
     "state": {
      "_model_module": "@jupyter-widgets/base",
      "_model_module_version": "1.2.0",
      "_model_name": "LayoutModel",
      "_view_count": null,
      "_view_module": "@jupyter-widgets/base",
      "_view_module_version": "1.2.0",
      "_view_name": "LayoutView",
      "align_content": null,
      "align_items": null,
      "align_self": null,
      "border": null,
      "bottom": null,
      "display": null,
      "flex": null,
      "flex_flow": null,
      "grid_area": null,
      "grid_auto_columns": null,
      "grid_auto_flow": null,
      "grid_auto_rows": null,
      "grid_column": null,
      "grid_gap": null,
      "grid_row": null,
      "grid_template_areas": null,
      "grid_template_columns": null,
      "grid_template_rows": null,
      "height": null,
      "justify_content": null,
      "justify_items": null,
      "left": null,
      "margin": null,
      "max_height": null,
      "max_width": null,
      "min_height": null,
      "min_width": null,
      "object_fit": null,
      "object_position": null,
      "order": null,
      "overflow": null,
      "overflow_x": null,
      "overflow_y": null,
      "padding": null,
      "right": null,
      "top": null,
      "visibility": null,
      "width": null
     }
    },
    "092f54fe5ca4450eb6b3605732642e27": {
     "model_module": "@jupyter-widgets/base",
     "model_name": "LayoutModel",
     "state": {
      "_model_module": "@jupyter-widgets/base",
      "_model_module_version": "1.2.0",
      "_model_name": "LayoutModel",
      "_view_count": null,
      "_view_module": "@jupyter-widgets/base",
      "_view_module_version": "1.2.0",
      "_view_name": "LayoutView",
      "align_content": null,
      "align_items": null,
      "align_self": null,
      "border": null,
      "bottom": null,
      "display": null,
      "flex": null,
      "flex_flow": null,
      "grid_area": null,
      "grid_auto_columns": null,
      "grid_auto_flow": null,
      "grid_auto_rows": null,
      "grid_column": null,
      "grid_gap": null,
      "grid_row": null,
      "grid_template_areas": null,
      "grid_template_columns": null,
      "grid_template_rows": null,
      "height": null,
      "justify_content": null,
      "justify_items": null,
      "left": null,
      "margin": null,
      "max_height": null,
      "max_width": null,
      "min_height": null,
      "min_width": null,
      "object_fit": null,
      "object_position": null,
      "order": null,
      "overflow": null,
      "overflow_x": null,
      "overflow_y": null,
      "padding": null,
      "right": null,
      "top": null,
      "visibility": null,
      "width": null
     }
    },
    "0944d83bc46042c78765771fc2597eb6": {
     "model_module": "@jupyter-widgets/controls",
     "model_name": "ProgressStyleModel",
     "state": {
      "_model_module": "@jupyter-widgets/controls",
      "_model_module_version": "1.5.0",
      "_model_name": "ProgressStyleModel",
      "_view_count": null,
      "_view_module": "@jupyter-widgets/base",
      "_view_module_version": "1.2.0",
      "_view_name": "StyleView",
      "bar_color": null,
      "description_width": "initial"
     }
    },
    "1da28decf133447f9e50538c2cfe9d9d": {
     "model_module": "@jupyter-widgets/controls",
     "model_name": "FloatProgressModel",
     "state": {
      "_dom_classes": [],
      "_model_module": "@jupyter-widgets/controls",
      "_model_module_version": "1.5.0",
      "_model_name": "FloatProgressModel",
      "_view_count": null,
      "_view_module": "@jupyter-widgets/controls",
      "_view_module_version": "1.5.0",
      "_view_name": "ProgressView",
      "bar_style": "success",
      "description": "Downloading: 100%",
      "description_tooltip": null,
      "layout": "IPY_MODEL_fe3a4eb298c3422cb9de870c935565d2",
      "max": 479,
      "min": 0,
      "orientation": "horizontal",
      "style": "IPY_MODEL_0944d83bc46042c78765771fc2597eb6",
      "value": 479
     }
    },
    "25130cf0c970483487434be0b08f5eed": {
     "model_module": "@jupyter-widgets/base",
     "model_name": "LayoutModel",
     "state": {
      "_model_module": "@jupyter-widgets/base",
      "_model_module_version": "1.2.0",
      "_model_name": "LayoutModel",
      "_view_count": null,
      "_view_module": "@jupyter-widgets/base",
      "_view_module_version": "1.2.0",
      "_view_name": "LayoutView",
      "align_content": null,
      "align_items": null,
      "align_self": null,
      "border": null,
      "bottom": null,
      "display": null,
      "flex": null,
      "flex_flow": null,
      "grid_area": null,
      "grid_auto_columns": null,
      "grid_auto_flow": null,
      "grid_auto_rows": null,
      "grid_column": null,
      "grid_gap": null,
      "grid_row": null,
      "grid_template_areas": null,
      "grid_template_columns": null,
      "grid_template_rows": null,
      "height": null,
      "justify_content": null,
      "justify_items": null,
      "left": null,
      "margin": null,
      "max_height": null,
      "max_width": null,
      "min_height": null,
      "min_width": null,
      "object_fit": null,
      "object_position": null,
      "order": null,
      "overflow": null,
      "overflow_x": null,
      "overflow_y": null,
      "padding": null,
      "right": null,
      "top": null,
      "visibility": null,
      "width": null
     }
    },
    "263bddf1a0b84006b23fc2ef4c3e1671": {
     "model_module": "@jupyter-widgets/base",
     "model_name": "LayoutModel",
     "state": {
      "_model_module": "@jupyter-widgets/base",
      "_model_module_version": "1.2.0",
      "_model_name": "LayoutModel",
      "_view_count": null,
      "_view_module": "@jupyter-widgets/base",
      "_view_module_version": "1.2.0",
      "_view_name": "LayoutView",
      "align_content": null,
      "align_items": null,
      "align_self": null,
      "border": null,
      "bottom": null,
      "display": null,
      "flex": null,
      "flex_flow": null,
      "grid_area": null,
      "grid_auto_columns": null,
      "grid_auto_flow": null,
      "grid_auto_rows": null,
      "grid_column": null,
      "grid_gap": null,
      "grid_row": null,
      "grid_template_areas": null,
      "grid_template_columns": null,
      "grid_template_rows": null,
      "height": null,
      "justify_content": null,
      "justify_items": null,
      "left": null,
      "margin": null,
      "max_height": null,
      "max_width": null,
      "min_height": null,
      "min_width": null,
      "object_fit": null,
      "object_position": null,
      "order": null,
      "overflow": null,
      "overflow_x": null,
      "overflow_y": null,
      "padding": null,
      "right": null,
      "top": null,
      "visibility": null,
      "width": null
     }
    },
    "2bf8e00e5a8c4cec8d0ba7be18ad0662": {
     "model_module": "@jupyter-widgets/controls",
     "model_name": "HTMLModel",
     "state": {
      "_dom_classes": [],
      "_model_module": "@jupyter-widgets/controls",
      "_model_module_version": "1.5.0",
      "_model_name": "HTMLModel",
      "_view_count": null,
      "_view_module": "@jupyter-widgets/controls",
      "_view_module_version": "1.5.0",
      "_view_name": "HTMLView",
      "description": "",
      "description_tooltip": null,
      "layout": "IPY_MODEL_2f96398e32d34909b82fbe9b6e9cc81a",
      "placeholder": "​",
      "style": "IPY_MODEL_96d8ac7ac2b4483b82390f92249747fa",
      "value": " 2754/6141 [10:53:43&lt;11:48:53, 12.56s/it]"
     }
    },
    "2f96398e32d34909b82fbe9b6e9cc81a": {
     "model_module": "@jupyter-widgets/base",
     "model_name": "LayoutModel",
     "state": {
      "_model_module": "@jupyter-widgets/base",
      "_model_module_version": "1.2.0",
      "_model_name": "LayoutModel",
      "_view_count": null,
      "_view_module": "@jupyter-widgets/base",
      "_view_module_version": "1.2.0",
      "_view_name": "LayoutView",
      "align_content": null,
      "align_items": null,
      "align_self": null,
      "border": null,
      "bottom": null,
      "display": null,
      "flex": null,
      "flex_flow": null,
      "grid_area": null,
      "grid_auto_columns": null,
      "grid_auto_flow": null,
      "grid_auto_rows": null,
      "grid_column": null,
      "grid_gap": null,
      "grid_row": null,
      "grid_template_areas": null,
      "grid_template_columns": null,
      "grid_template_rows": null,
      "height": null,
      "justify_content": null,
      "justify_items": null,
      "left": null,
      "margin": null,
      "max_height": null,
      "max_width": null,
      "min_height": null,
      "min_width": null,
      "object_fit": null,
      "object_position": null,
      "order": null,
      "overflow": null,
      "overflow_x": null,
      "overflow_y": null,
      "padding": null,
      "right": null,
      "top": null,
      "visibility": null,
      "width": null
     }
    },
    "311098df259a4dbb957a69fbeae1f8ba": {
     "model_module": "@jupyter-widgets/base",
     "model_name": "LayoutModel",
     "state": {
      "_model_module": "@jupyter-widgets/base",
      "_model_module_version": "1.2.0",
      "_model_name": "LayoutModel",
      "_view_count": null,
      "_view_module": "@jupyter-widgets/base",
      "_view_module_version": "1.2.0",
      "_view_name": "LayoutView",
      "align_content": null,
      "align_items": null,
      "align_self": null,
      "border": null,
      "bottom": null,
      "display": null,
      "flex": null,
      "flex_flow": null,
      "grid_area": null,
      "grid_auto_columns": null,
      "grid_auto_flow": null,
      "grid_auto_rows": null,
      "grid_column": null,
      "grid_gap": null,
      "grid_row": null,
      "grid_template_areas": null,
      "grid_template_columns": null,
      "grid_template_rows": null,
      "height": null,
      "justify_content": null,
      "justify_items": null,
      "left": null,
      "margin": null,
      "max_height": null,
      "max_width": null,
      "min_height": null,
      "min_width": null,
      "object_fit": null,
      "object_position": null,
      "order": null,
      "overflow": null,
      "overflow_x": null,
      "overflow_y": null,
      "padding": null,
      "right": null,
      "top": null,
      "visibility": null,
      "width": null
     }
    },
    "383af31561c945e4abfa9e562fb7bdd0": {
     "model_module": "@jupyter-widgets/controls",
     "model_name": "ProgressStyleModel",
     "state": {
      "_model_module": "@jupyter-widgets/controls",
      "_model_module_version": "1.5.0",
      "_model_name": "ProgressStyleModel",
      "_view_count": null,
      "_view_module": "@jupyter-widgets/base",
      "_view_module_version": "1.2.0",
      "_view_name": "StyleView",
      "bar_color": null,
      "description_width": "initial"
     }
    },
    "3eff1a8ea81543989296c6d244deb4e2": {
     "model_module": "@jupyter-widgets/controls",
     "model_name": "HBoxModel",
     "state": {
      "_dom_classes": [],
      "_model_module": "@jupyter-widgets/controls",
      "_model_module_version": "1.5.0",
      "_model_name": "HBoxModel",
      "_view_count": null,
      "_view_module": "@jupyter-widgets/controls",
      "_view_module_version": "1.5.0",
      "_view_name": "HBoxView",
      "box_style": "",
      "children": [
       "IPY_MODEL_d77f520a31704044a542b7b4d07469b5",
       "IPY_MODEL_bb0bf2cd468e45ca89a6cca74a9572e6"
      ],
      "layout": "IPY_MODEL_4c1a9a63703344a59e1e6154cde1f1f4"
     }
    },
    "3f7de905251848ed87b0547489d63e8c": {
     "model_module": "@jupyter-widgets/controls",
     "model_name": "HTMLModel",
     "state": {
      "_dom_classes": [],
      "_model_module": "@jupyter-widgets/controls",
      "_model_module_version": "1.5.0",
      "_model_name": "HTMLModel",
      "_view_count": null,
      "_view_module": "@jupyter-widgets/controls",
      "_view_module_version": "1.5.0",
      "_view_name": "HTMLView",
      "description": "",
      "description_tooltip": null,
      "layout": "IPY_MODEL_e6cbb95610944331b53e2d010fd5b95e",
      "placeholder": "​",
      "style": "IPY_MODEL_705276cb267c43c3b1ef9e000017db93",
      "value": " 479/479 [00:00&lt;00:00, 2.84kB/s]"
     }
    },
    "4076647c57d34b93a81e311faf574035": {
     "model_module": "@jupyter-widgets/base",
     "model_name": "LayoutModel",
     "state": {
      "_model_module": "@jupyter-widgets/base",
      "_model_module_version": "1.2.0",
      "_model_name": "LayoutModel",
      "_view_count": null,
      "_view_module": "@jupyter-widgets/base",
      "_view_module_version": "1.2.0",
      "_view_name": "LayoutView",
      "align_content": null,
      "align_items": null,
      "align_self": null,
      "border": null,
      "bottom": null,
      "display": null,
      "flex": null,
      "flex_flow": null,
      "grid_area": null,
      "grid_auto_columns": null,
      "grid_auto_flow": null,
      "grid_auto_rows": null,
      "grid_column": null,
      "grid_gap": null,
      "grid_row": null,
      "grid_template_areas": null,
      "grid_template_columns": null,
      "grid_template_rows": null,
      "height": null,
      "justify_content": null,
      "justify_items": null,
      "left": null,
      "margin": null,
      "max_height": null,
      "max_width": null,
      "min_height": null,
      "min_width": null,
      "object_fit": null,
      "object_position": null,
      "order": null,
      "overflow": null,
      "overflow_x": null,
      "overflow_y": null,
      "padding": null,
      "right": null,
      "top": null,
      "visibility": null,
      "width": null
     }
    },
    "4c1a9a63703344a59e1e6154cde1f1f4": {
     "model_module": "@jupyter-widgets/base",
     "model_name": "LayoutModel",
     "state": {
      "_model_module": "@jupyter-widgets/base",
      "_model_module_version": "1.2.0",
      "_model_name": "LayoutModel",
      "_view_count": null,
      "_view_module": "@jupyter-widgets/base",
      "_view_module_version": "1.2.0",
      "_view_name": "LayoutView",
      "align_content": null,
      "align_items": null,
      "align_self": null,
      "border": null,
      "bottom": null,
      "display": null,
      "flex": null,
      "flex_flow": null,
      "grid_area": null,
      "grid_auto_columns": null,
      "grid_auto_flow": null,
      "grid_auto_rows": null,
      "grid_column": null,
      "grid_gap": null,
      "grid_row": null,
      "grid_template_areas": null,
      "grid_template_columns": null,
      "grid_template_rows": null,
      "height": null,
      "justify_content": null,
      "justify_items": null,
      "left": null,
      "margin": null,
      "max_height": null,
      "max_width": null,
      "min_height": null,
      "min_width": null,
      "object_fit": null,
      "object_position": null,
      "order": null,
      "overflow": null,
      "overflow_x": null,
      "overflow_y": null,
      "padding": null,
      "right": null,
      "top": null,
      "visibility": null,
      "width": null
     }
    },
    "62dba33d042b47b6a327d82de0c075bf": {
     "model_module": "@jupyter-widgets/controls",
     "model_name": "DescriptionStyleModel",
     "state": {
      "_model_module": "@jupyter-widgets/controls",
      "_model_module_version": "1.5.0",
      "_model_name": "DescriptionStyleModel",
      "_view_count": null,
      "_view_module": "@jupyter-widgets/base",
      "_view_module_version": "1.2.0",
      "_view_name": "StyleView",
      "description_width": ""
     }
    },
    "6e7b60ab1c7f44f29f92907155ea6889": {
     "model_module": "@jupyter-widgets/controls",
     "model_name": "FloatProgressModel",
     "state": {
      "_dom_classes": [],
      "_model_module": "@jupyter-widgets/controls",
      "_model_module_version": "1.5.0",
      "_model_name": "FloatProgressModel",
      "_view_count": null,
      "_view_module": "@jupyter-widgets/controls",
      "_view_module_version": "1.5.0",
      "_view_name": "ProgressView",
      "bar_style": "success",
      "description": "Downloading: 100%",
      "description_tooltip": null,
      "layout": "IPY_MODEL_25130cf0c970483487434be0b08f5eed",
      "max": 257706,
      "min": 0,
      "orientation": "horizontal",
      "style": "IPY_MODEL_7d4a138ce30944ec99068e0b3bed04c6",
      "value": 257706
     }
    },
    "705276cb267c43c3b1ef9e000017db93": {
     "model_module": "@jupyter-widgets/controls",
     "model_name": "DescriptionStyleModel",
     "state": {
      "_model_module": "@jupyter-widgets/controls",
      "_model_module_version": "1.5.0",
      "_model_name": "DescriptionStyleModel",
      "_view_count": null,
      "_view_module": "@jupyter-widgets/base",
      "_view_module_version": "1.2.0",
      "_view_name": "StyleView",
      "description_width": ""
     }
    },
    "7d4a138ce30944ec99068e0b3bed04c6": {
     "model_module": "@jupyter-widgets/controls",
     "model_name": "ProgressStyleModel",
     "state": {
      "_model_module": "@jupyter-widgets/controls",
      "_model_module_version": "1.5.0",
      "_model_name": "ProgressStyleModel",
      "_view_count": null,
      "_view_module": "@jupyter-widgets/base",
      "_view_module_version": "1.2.0",
      "_view_name": "StyleView",
      "bar_color": null,
      "description_width": "initial"
     }
    },
    "841906429a3045b5ad651193bccdd34e": {
     "model_module": "@jupyter-widgets/controls",
     "model_name": "FloatProgressModel",
     "state": {
      "_dom_classes": [],
      "_model_module": "@jupyter-widgets/controls",
      "_model_module_version": "1.5.0",
      "_model_name": "FloatProgressModel",
      "_view_count": null,
      "_view_module": "@jupyter-widgets/controls",
      "_view_module_version": "1.5.0",
      "_view_name": "ProgressView",
      "bar_style": "",
      "description": "Iteration:  45%",
      "description_tooltip": null,
      "layout": "IPY_MODEL_263bddf1a0b84006b23fc2ef4c3e1671",
      "max": 6141,
      "min": 0,
      "orientation": "horizontal",
      "style": "IPY_MODEL_383af31561c945e4abfa9e562fb7bdd0",
      "value": 2754
     }
    },
    "903741ec19a5419f9534f20a80ef65a8": {
     "model_module": "@jupyter-widgets/controls",
     "model_name": "HBoxModel",
     "state": {
      "_dom_classes": [],
      "_model_module": "@jupyter-widgets/controls",
      "_model_module_version": "1.5.0",
      "_model_name": "HBoxModel",
      "_view_count": null,
      "_view_module": "@jupyter-widgets/controls",
      "_view_module_version": "1.5.0",
      "_view_name": "HBoxView",
      "box_style": "",
      "children": [
       "IPY_MODEL_cb195813504f4382bd7ad6ebdd9a21d2",
       "IPY_MODEL_980c7a4ad3a8474f9017939ea9690807"
      ],
      "layout": "IPY_MODEL_eed6e643ea374f9189965430206052e3"
     }
    },
    "9217611a7b604511b7d0db3a9afa1f48": {
     "model_module": "@jupyter-widgets/controls",
     "model_name": "DescriptionStyleModel",
     "state": {
      "_model_module": "@jupyter-widgets/controls",
      "_model_module_version": "1.5.0",
      "_model_name": "DescriptionStyleModel",
      "_view_count": null,
      "_view_module": "@jupyter-widgets/base",
      "_view_module_version": "1.2.0",
      "_view_name": "StyleView",
      "description_width": ""
     }
    },
    "96d8ac7ac2b4483b82390f92249747fa": {
     "model_module": "@jupyter-widgets/controls",
     "model_name": "DescriptionStyleModel",
     "state": {
      "_model_module": "@jupyter-widgets/controls",
      "_model_module_version": "1.5.0",
      "_model_name": "DescriptionStyleModel",
      "_view_count": null,
      "_view_module": "@jupyter-widgets/base",
      "_view_module_version": "1.2.0",
      "_view_name": "StyleView",
      "description_width": ""
     }
    },
    "970812a38fcf4e37aec02fc6704e8367": {
     "model_module": "@jupyter-widgets/controls",
     "model_name": "ProgressStyleModel",
     "state": {
      "_model_module": "@jupyter-widgets/controls",
      "_model_module_version": "1.5.0",
      "_model_name": "ProgressStyleModel",
      "_view_count": null,
      "_view_module": "@jupyter-widgets/base",
      "_view_module_version": "1.2.0",
      "_view_name": "StyleView",
      "bar_color": null,
      "description_width": "initial"
     }
    },
    "980c7a4ad3a8474f9017939ea9690807": {
     "model_module": "@jupyter-widgets/controls",
     "model_name": "HTMLModel",
     "state": {
      "_dom_classes": [],
      "_model_module": "@jupyter-widgets/controls",
      "_model_module_version": "1.5.0",
      "_model_name": "HTMLModel",
      "_view_count": null,
      "_view_module": "@jupyter-widgets/controls",
      "_view_module_version": "1.5.0",
      "_view_name": "HTMLView",
      "description": "",
      "description_tooltip": null,
      "layout": "IPY_MODEL_edef431ae37346359e7eca35b38f6738",
      "placeholder": "​",
      "style": "IPY_MODEL_dad0f5228e15400a9cbf4089e98fd5ba",
      "value": " 0/1 [00:00&lt;?, ?it/s]"
     }
    },
    "98e0eb6897f3414f85ace9700f574b83": {
     "model_module": "@jupyter-widgets/base",
     "model_name": "LayoutModel",
     "state": {
      "_model_module": "@jupyter-widgets/base",
      "_model_module_version": "1.2.0",
      "_model_name": "LayoutModel",
      "_view_count": null,
      "_view_module": "@jupyter-widgets/base",
      "_view_module_version": "1.2.0",
      "_view_name": "LayoutView",
      "align_content": null,
      "align_items": null,
      "align_self": null,
      "border": null,
      "bottom": null,
      "display": null,
      "flex": null,
      "flex_flow": null,
      "grid_area": null,
      "grid_auto_columns": null,
      "grid_auto_flow": null,
      "grid_auto_rows": null,
      "grid_column": null,
      "grid_gap": null,
      "grid_row": null,
      "grid_template_areas": null,
      "grid_template_columns": null,
      "grid_template_rows": null,
      "height": null,
      "justify_content": null,
      "justify_items": null,
      "left": null,
      "margin": null,
      "max_height": null,
      "max_width": null,
      "min_height": null,
      "min_width": null,
      "object_fit": null,
      "object_position": null,
      "order": null,
      "overflow": null,
      "overflow_x": null,
      "overflow_y": null,
      "padding": null,
      "right": null,
      "top": null,
      "visibility": null,
      "width": null
     }
    },
    "bad218c8e6d348b3885ca579f48038d9": {
     "model_module": "@jupyter-widgets/controls",
     "model_name": "HBoxModel",
     "state": {
      "_dom_classes": [],
      "_model_module": "@jupyter-widgets/controls",
      "_model_module_version": "1.5.0",
      "_model_name": "HBoxModel",
      "_view_count": null,
      "_view_module": "@jupyter-widgets/controls",
      "_view_module_version": "1.5.0",
      "_view_name": "HBoxView",
      "box_style": "",
      "children": [
       "IPY_MODEL_1da28decf133447f9e50538c2cfe9d9d",
       "IPY_MODEL_3f7de905251848ed87b0547489d63e8c"
      ],
      "layout": "IPY_MODEL_311098df259a4dbb957a69fbeae1f8ba"
     }
    },
    "bb0bf2cd468e45ca89a6cca74a9572e6": {
     "model_module": "@jupyter-widgets/controls",
     "model_name": "HTMLModel",
     "state": {
      "_dom_classes": [],
      "_model_module": "@jupyter-widgets/controls",
      "_model_module_version": "1.5.0",
      "_model_name": "HTMLModel",
      "_view_count": null,
      "_view_module": "@jupyter-widgets/controls",
      "_view_module_version": "1.5.0",
      "_view_name": "HTMLView",
      "description": "",
      "description_tooltip": null,
      "layout": "IPY_MODEL_092f54fe5ca4450eb6b3605732642e27",
      "placeholder": "​",
      "style": "IPY_MODEL_62dba33d042b47b6a327d82de0c075bf",
      "value": " 445M/445M [00:10&lt;00:00, 43.4MB/s]"
     }
    },
    "c0c4ed7d9f6b43fbaae7bcd7de6640d2": {
     "model_module": "@jupyter-widgets/base",
     "model_name": "LayoutModel",
     "state": {
      "_model_module": "@jupyter-widgets/base",
      "_model_module_version": "1.2.0",
      "_model_name": "LayoutModel",
      "_view_count": null,
      "_view_module": "@jupyter-widgets/base",
      "_view_module_version": "1.2.0",
      "_view_name": "LayoutView",
      "align_content": null,
      "align_items": null,
      "align_self": null,
      "border": null,
      "bottom": null,
      "display": null,
      "flex": null,
      "flex_flow": null,
      "grid_area": null,
      "grid_auto_columns": null,
      "grid_auto_flow": null,
      "grid_auto_rows": null,
      "grid_column": null,
      "grid_gap": null,
      "grid_row": null,
      "grid_template_areas": null,
      "grid_template_columns": null,
      "grid_template_rows": null,
      "height": null,
      "justify_content": null,
      "justify_items": null,
      "left": null,
      "margin": null,
      "max_height": null,
      "max_width": null,
      "min_height": null,
      "min_width": null,
      "object_fit": null,
      "object_position": null,
      "order": null,
      "overflow": null,
      "overflow_x": null,
      "overflow_y": null,
      "padding": null,
      "right": null,
      "top": null,
      "visibility": null,
      "width": null
     }
    },
    "c2ed51b50d29433096594ee1844c8f9e": {
     "model_module": "@jupyter-widgets/controls",
     "model_name": "ProgressStyleModel",
     "state": {
      "_model_module": "@jupyter-widgets/controls",
      "_model_module_version": "1.5.0",
      "_model_name": "ProgressStyleModel",
      "_view_count": null,
      "_view_module": "@jupyter-widgets/base",
      "_view_module_version": "1.2.0",
      "_view_name": "StyleView",
      "bar_color": null,
      "description_width": "initial"
     }
    },
    "cb195813504f4382bd7ad6ebdd9a21d2": {
     "model_module": "@jupyter-widgets/controls",
     "model_name": "FloatProgressModel",
     "state": {
      "_dom_classes": [],
      "_model_module": "@jupyter-widgets/controls",
      "_model_module_version": "1.5.0",
      "_model_name": "FloatProgressModel",
      "_view_count": null,
      "_view_module": "@jupyter-widgets/controls",
      "_view_module_version": "1.5.0",
      "_view_name": "ProgressView",
      "bar_style": "",
      "description": "Epoch:   0%",
      "description_tooltip": null,
      "layout": "IPY_MODEL_c0c4ed7d9f6b43fbaae7bcd7de6640d2",
      "max": 1,
      "min": 0,
      "orientation": "horizontal",
      "style": "IPY_MODEL_970812a38fcf4e37aec02fc6704e8367",
      "value": 0
     }
    },
    "ce74cad0ae7d40d8aa54529360ae639c": {
     "model_module": "@jupyter-widgets/controls",
     "model_name": "HBoxModel",
     "state": {
      "_dom_classes": [],
      "_model_module": "@jupyter-widgets/controls",
      "_model_module_version": "1.5.0",
      "_model_name": "HBoxModel",
      "_view_count": null,
      "_view_module": "@jupyter-widgets/controls",
      "_view_module_version": "1.5.0",
      "_view_name": "HBoxView",
      "box_style": "",
      "children": [
       "IPY_MODEL_6e7b60ab1c7f44f29f92907155ea6889",
       "IPY_MODEL_e767eea3e75a4da0bcedc7f5de3ca794"
      ],
      "layout": "IPY_MODEL_03b159ea344d44d7af1dd7add757a25d"
     }
    },
    "d77f520a31704044a542b7b4d07469b5": {
     "model_module": "@jupyter-widgets/controls",
     "model_name": "FloatProgressModel",
     "state": {
      "_dom_classes": [],
      "_model_module": "@jupyter-widgets/controls",
      "_model_module_version": "1.5.0",
      "_model_name": "FloatProgressModel",
      "_view_count": null,
      "_view_module": "@jupyter-widgets/controls",
      "_view_module_version": "1.5.0",
      "_view_name": "ProgressView",
      "bar_style": "success",
      "description": "Downloading: 100%",
      "description_tooltip": null,
      "layout": "IPY_MODEL_98e0eb6897f3414f85ace9700f574b83",
      "max": 445021143,
      "min": 0,
      "orientation": "horizontal",
      "style": "IPY_MODEL_c2ed51b50d29433096594ee1844c8f9e",
      "value": 445021143
     }
    },
    "da24afcf27a142c286c470929e435db4": {
     "model_module": "@jupyter-widgets/controls",
     "model_name": "HBoxModel",
     "state": {
      "_dom_classes": [],
      "_model_module": "@jupyter-widgets/controls",
      "_model_module_version": "1.5.0",
      "_model_name": "HBoxModel",
      "_view_count": null,
      "_view_module": "@jupyter-widgets/controls",
      "_view_module_version": "1.5.0",
      "_view_name": "HBoxView",
      "box_style": "",
      "children": [
       "IPY_MODEL_841906429a3045b5ad651193bccdd34e",
       "IPY_MODEL_2bf8e00e5a8c4cec8d0ba7be18ad0662"
      ],
      "layout": "IPY_MODEL_02735f8dec2f4d5b9c3e02e06ee19f49"
     }
    },
    "dad0f5228e15400a9cbf4089e98fd5ba": {
     "model_module": "@jupyter-widgets/controls",
     "model_name": "DescriptionStyleModel",
     "state": {
      "_model_module": "@jupyter-widgets/controls",
      "_model_module_version": "1.5.0",
      "_model_name": "DescriptionStyleModel",
      "_view_count": null,
      "_view_module": "@jupyter-widgets/base",
      "_view_module_version": "1.2.0",
      "_view_name": "StyleView",
      "description_width": ""
     }
    },
    "e6cbb95610944331b53e2d010fd5b95e": {
     "model_module": "@jupyter-widgets/base",
     "model_name": "LayoutModel",
     "state": {
      "_model_module": "@jupyter-widgets/base",
      "_model_module_version": "1.2.0",
      "_model_name": "LayoutModel",
      "_view_count": null,
      "_view_module": "@jupyter-widgets/base",
      "_view_module_version": "1.2.0",
      "_view_name": "LayoutView",
      "align_content": null,
      "align_items": null,
      "align_self": null,
      "border": null,
      "bottom": null,
      "display": null,
      "flex": null,
      "flex_flow": null,
      "grid_area": null,
      "grid_auto_columns": null,
      "grid_auto_flow": null,
      "grid_auto_rows": null,
      "grid_column": null,
      "grid_gap": null,
      "grid_row": null,
      "grid_template_areas": null,
      "grid_template_columns": null,
      "grid_template_rows": null,
      "height": null,
      "justify_content": null,
      "justify_items": null,
      "left": null,
      "margin": null,
      "max_height": null,
      "max_width": null,
      "min_height": null,
      "min_width": null,
      "object_fit": null,
      "object_position": null,
      "order": null,
      "overflow": null,
      "overflow_x": null,
      "overflow_y": null,
      "padding": null,
      "right": null,
      "top": null,
      "visibility": null,
      "width": null
     }
    },
    "e767eea3e75a4da0bcedc7f5de3ca794": {
     "model_module": "@jupyter-widgets/controls",
     "model_name": "HTMLModel",
     "state": {
      "_dom_classes": [],
      "_model_module": "@jupyter-widgets/controls",
      "_model_module_version": "1.5.0",
      "_model_name": "HTMLModel",
      "_view_count": null,
      "_view_module": "@jupyter-widgets/controls",
      "_view_module_version": "1.5.0",
      "_view_name": "HTMLView",
      "description": "",
      "description_tooltip": null,
      "layout": "IPY_MODEL_4076647c57d34b93a81e311faf574035",
      "placeholder": "​",
      "style": "IPY_MODEL_9217611a7b604511b7d0db3a9afa1f48",
      "value": " 258k/258k [00:00&lt;00:00, 1.63MB/s]"
     }
    },
    "edef431ae37346359e7eca35b38f6738": {
     "model_module": "@jupyter-widgets/base",
     "model_name": "LayoutModel",
     "state": {
      "_model_module": "@jupyter-widgets/base",
      "_model_module_version": "1.2.0",
      "_model_name": "LayoutModel",
      "_view_count": null,
      "_view_module": "@jupyter-widgets/base",
      "_view_module_version": "1.2.0",
      "_view_name": "LayoutView",
      "align_content": null,
      "align_items": null,
      "align_self": null,
      "border": null,
      "bottom": null,
      "display": null,
      "flex": null,
      "flex_flow": null,
      "grid_area": null,
      "grid_auto_columns": null,
      "grid_auto_flow": null,
      "grid_auto_rows": null,
      "grid_column": null,
      "grid_gap": null,
      "grid_row": null,
      "grid_template_areas": null,
      "grid_template_columns": null,
      "grid_template_rows": null,
      "height": null,
      "justify_content": null,
      "justify_items": null,
      "left": null,
      "margin": null,
      "max_height": null,
      "max_width": null,
      "min_height": null,
      "min_width": null,
      "object_fit": null,
      "object_position": null,
      "order": null,
      "overflow": null,
      "overflow_x": null,
      "overflow_y": null,
      "padding": null,
      "right": null,
      "top": null,
      "visibility": null,
      "width": null
     }
    },
    "eed6e643ea374f9189965430206052e3": {
     "model_module": "@jupyter-widgets/base",
     "model_name": "LayoutModel",
     "state": {
      "_model_module": "@jupyter-widgets/base",
      "_model_module_version": "1.2.0",
      "_model_name": "LayoutModel",
      "_view_count": null,
      "_view_module": "@jupyter-widgets/base",
      "_view_module_version": "1.2.0",
      "_view_name": "LayoutView",
      "align_content": null,
      "align_items": null,
      "align_self": null,
      "border": null,
      "bottom": null,
      "display": null,
      "flex": null,
      "flex_flow": null,
      "grid_area": null,
      "grid_auto_columns": null,
      "grid_auto_flow": null,
      "grid_auto_rows": null,
      "grid_column": null,
      "grid_gap": null,
      "grid_row": null,
      "grid_template_areas": null,
      "grid_template_columns": null,
      "grid_template_rows": null,
      "height": null,
      "justify_content": null,
      "justify_items": null,
      "left": null,
      "margin": null,
      "max_height": null,
      "max_width": null,
      "min_height": null,
      "min_width": null,
      "object_fit": null,
      "object_position": null,
      "order": null,
      "overflow": null,
      "overflow_x": null,
      "overflow_y": null,
      "padding": null,
      "right": null,
      "top": null,
      "visibility": null,
      "width": null
     }
    },
    "fe3a4eb298c3422cb9de870c935565d2": {
     "model_module": "@jupyter-widgets/base",
     "model_name": "LayoutModel",
     "state": {
      "_model_module": "@jupyter-widgets/base",
      "_model_module_version": "1.2.0",
      "_model_name": "LayoutModel",
      "_view_count": null,
      "_view_module": "@jupyter-widgets/base",
      "_view_module_version": "1.2.0",
      "_view_name": "LayoutView",
      "align_content": null,
      "align_items": null,
      "align_self": null,
      "border": null,
      "bottom": null,
      "display": null,
      "flex": null,
      "flex_flow": null,
      "grid_area": null,
      "grid_auto_columns": null,
      "grid_auto_flow": null,
      "grid_auto_rows": null,
      "grid_column": null,
      "grid_gap": null,
      "grid_row": null,
      "grid_template_areas": null,
      "grid_template_columns": null,
      "grid_template_rows": null,
      "height": null,
      "justify_content": null,
      "justify_items": null,
      "left": null,
      "margin": null,
      "max_height": null,
      "max_width": null,
      "min_height": null,
      "min_width": null,
      "object_fit": null,
      "object_position": null,
      "order": null,
      "overflow": null,
      "overflow_x": null,
      "overflow_y": null,
      "padding": null,
      "right": null,
      "top": null,
      "visibility": null,
      "width": null
     }
    }
   }
  }
 },
 "nbformat": 4,
 "nbformat_minor": 4
}
